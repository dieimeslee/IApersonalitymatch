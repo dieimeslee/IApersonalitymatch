{
 "cells": [
  {
   "cell_type": "markdown",
   "id": "bf1c479a",
   "metadata": {},
   "source": [
    "# The Big Five personality traits (OCEAN) \n"
   ]
  },
  {
   "cell_type": "markdown",
   "id": "f0c0a72e",
   "metadata": {},
   "source": [
    "-Openness to experience  \n",
    "-Conscientiouness  \n",
    "-Extroversion  \n",
    "-Agreeableness  \n",
    "-Neurocitism  \n",
    "\n",
    "\n",
    "1-import data\n",
    "2-clean data\n",
    "3-group data(similarity in answers) 5 clusters (Elbow Method)\n",
    "\n",
    "4-answer the test and kmeans says in which group(cluster) I am\n",
    "\n",
    "\n",
    "database: https://www.kaggle.com/datasets/tunguz/big-five-personality-test"
   ]
  },
  {
   "cell_type": "code",
   "execution_count": null,
   "id": "7d5f324e",
   "metadata": {},
   "outputs": [],
   "source": [
    "import pandas as pd\n",
    "import numpy as np\n",
    "import matplotlib.pyplot as plt\n",
    "from io import open\n",
    "pd.options.display.max_columns = 150\n"
   ]
  },
  {
   "cell_type": "code",
   "execution_count": null,
   "id": "165cefbb",
   "metadata": {},
   "outputs": [],
   "source": [
    "data = pd.read_csv('data-final.csv', sep='\\t')"
   ]
  },
  {
   "cell_type": "code",
   "execution_count": null,
   "id": "cdb3aa6b",
   "metadata": {},
   "outputs": [],
   "source": [
    "data.drop(data.columns[50:], axis=1, inplace=True)"
   ]
  },
  {
   "cell_type": "code",
   "execution_count": null,
   "id": "88c31a9e",
   "metadata": {},
   "outputs": [],
   "source": [
    "data.head()"
   ]
  },
  {
   "cell_type": "code",
   "execution_count": null,
   "id": "77b8b579",
   "metadata": {},
   "outputs": [],
   "source": [
    "pd.options.display.float_format = \"{:.2f}\".format\n",
    "data.describe()"
   ]
  },
  {
   "cell_type": "code",
   "execution_count": null,
   "id": "706dd9bb",
   "metadata": {},
   "outputs": [],
   "source": [
    "data[\"EXT1\"].value_counts()"
   ]
  },
  {
   "cell_type": "code",
   "execution_count": null,
   "id": "e3bd9cc3",
   "metadata": {},
   "outputs": [],
   "source": [
    "data = data[(data > 0.00).all(axis=1)]"
   ]
  },
  {
   "cell_type": "code",
   "execution_count": null,
   "id": "e7902aaa",
   "metadata": {},
   "outputs": [],
   "source": [
    "data[\"EXT1\"].value_counts()"
   ]
  },
  {
   "cell_type": "code",
   "execution_count": null,
   "id": "6ced17bd",
   "metadata": {},
   "outputs": [],
   "source": [
    "pip install yellowbrick"
   ]
  },
  {
   "cell_type": "code",
   "execution_count": null,
   "id": "848bc5cb",
   "metadata": {},
   "outputs": [],
   "source": [
    "from sklearn.cluster import KMeans\n",
    "from yellowbrick.cluster import KElbowVisualizer"
   ]
  },
  {
   "cell_type": "code",
   "execution_count": null,
   "id": "8b86e260",
   "metadata": {},
   "outputs": [],
   "source": [
    "kmeans = KMeans()\n",
    "visualizer = KElbowVisualizer(kmeans, k=(2,10))"
   ]
  },
  {
   "cell_type": "markdown",
   "id": "2700cbf7",
   "metadata": {},
   "source": [
    "complete data is too big, so separate a sample"
   ]
  },
  {
   "cell_type": "code",
   "execution_count": null,
   "id": "07a2af78",
   "metadata": {},
   "outputs": [],
   "source": [
    "data_sample = data.sample(n=8000, random_state=1)"
   ]
  },
  {
   "cell_type": "code",
   "execution_count": null,
   "id": "738f68a8",
   "metadata": {},
   "outputs": [],
   "source": [
    "visualizer.fit(data_sample)\n",
    "visualizer.poof()"
   ]
  },
  {
   "cell_type": "code",
   "execution_count": null,
   "id": "046abb6f",
   "metadata": {},
   "outputs": [],
   "source": [
    "kmeans = KMeans(n_clusters=5)\n",
    "k_fit = kmeans.fit(data)"
   ]
  },
  {
   "cell_type": "code",
   "execution_count": null,
   "id": "101c4d20",
   "metadata": {},
   "outputs": [],
   "source": [
    "prediction = k_fit.labels_\n",
    "data['Clusters'] = prediction"
   ]
  },
  {
   "cell_type": "code",
   "execution_count": null,
   "id": "7a7757d8",
   "metadata": {},
   "outputs": [],
   "source": [
    "data.head()"
   ]
  },
  {
   "cell_type": "markdown",
   "id": "5994e368",
   "metadata": {},
   "source": [
    "Quantity of observation in each group?"
   ]
  },
  {
   "cell_type": "code",
   "execution_count": null,
   "id": "0a6d6559",
   "metadata": {},
   "outputs": [],
   "source": [
    "data[\"Clusters\"].value_counts()"
   ]
  },
  {
   "cell_type": "code",
   "execution_count": null,
   "id": "5b28f505",
   "metadata": {},
   "outputs": [],
   "source": [
    "data.groupby('Clusters').mean()"
   ]
  },
  {
   "cell_type": "markdown",
   "id": "dfe8ddd7",
   "metadata": {},
   "source": [
    "Mean of each group"
   ]
  },
  {
   "cell_type": "code",
   "execution_count": null,
   "id": "e3d3a06c",
   "metadata": {},
   "outputs": [],
   "source": [
    "col_list = list(data)\n",
    "ext = col_list[0:10] #ext = extroversion\n",
    "neu = col_list[10:20] #neu = neurotic\n",
    "agr = col_list[20:30] #agr = agreeableness\n",
    "csn = col_list[30:40] #csn = conscientious\n",
    "opn = col_list[40:50] #opn = open "
   ]
  },
  {
   "cell_type": "code",
   "execution_count": null,
   "id": "ca8182fc",
   "metadata": {},
   "outputs": [],
   "source": [
    "data_plus = pd.DataFrame()\n",
    "data_plus['extroversion'] = data[ext].sum(axis=1)/10\n",
    "data_plus['neurotic'] = data[neu].sum(axis=1)/10\n",
    "data_plus['agreeable'] = data[agr].sum(axis=1)/10\n",
    "data_plus['conscientious'] = data[csn].sum(axis=1)/10\n",
    "data_plus['open'] = data[opn].sum(axis=1)/10\n",
    "data_plus['clusters'] = prediction\n"
   ]
  },
  {
   "cell_type": "code",
   "execution_count": null,
   "id": "abaf627d",
   "metadata": {},
   "outputs": [],
   "source": [
    "data_plus.groupby('clusters').mean()"
   ]
  },
  {
   "cell_type": "markdown",
   "id": "75b2cedf",
   "metadata": {},
   "source": [
    "mean by group"
   ]
  },
  {
   "cell_type": "code",
   "execution_count": null,
   "id": "76b65a58",
   "metadata": {},
   "outputs": [],
   "source": [
    "data_clusters = data_plus.groupby('clusters').mean()"
   ]
  },
  {
   "cell_type": "code",
   "execution_count": null,
   "id": "0a90fb0c",
   "metadata": {},
   "outputs": [],
   "source": [
    "plt.figure(figsize=(21,3))\n",
    "for i in range(0, 5):\n",
    "    plt.subplot(1,5,i+1)\n",
    "    plt.bar(data_clusters.columns, data_clusters.iloc[:, i], color='green', alpha=0.2)\n",
    "    plt.plot(data_clusters.columns, data_clusters.iloc[:, i], color='red')\n",
    "    plt.title('Group ' + str(i))\n",
    "    plt.xticks(rotation=45)\n",
    "    plt.ylim(0,4);\n",
    "    "
   ]
  },
  {
   "cell_type": "markdown",
   "id": "1c6daf46",
   "metadata": {},
   "source": [
    "# Read questions"
   ]
  },
  {
   "cell_type": "code",
   "execution_count": null,
   "id": "08f55227",
   "metadata": {},
   "outputs": [],
   "source": [
    "pip install gradio"
   ]
  },
  {
   "cell_type": "code",
   "execution_count": null,
   "id": "d0bb837d",
   "metadata": {},
   "outputs": [],
   "source": [
    "import gradio as gr\n",
    "dict_questions = open(\"questions.txt\").read().split(\"\\n\")\n"
   ]
  },
  {
   "cell_type": "code",
   "execution_count": null,
   "id": "02f7da75",
   "metadata": {},
   "outputs": [],
   "source": [
    "dict_questions"
   ]
  },
  {
   "cell_type": "code",
   "execution_count": null,
   "id": "99c02b78",
   "metadata": {},
   "outputs": [],
   "source": [
    "questions = []\n",
    "for q in dict_questions:\n",
    "  q = str(q)\n",
    "  questions.append(q[q.find(\"\\t\"):].lstrip())"
   ]
  },
  {
   "cell_type": "code",
   "execution_count": null,
   "id": "464d0ae1",
   "metadata": {},
   "outputs": [],
   "source": [
    "questions"
   ]
  },
  {
   "cell_type": "code",
   "execution_count": null,
   "id": "adeda124",
   "metadata": {},
   "outputs": [],
   "source": [
    "inputs_questions = []\n",
    "for q in questions:\n",
    "  obj_input = gr.inputs.Slider(minimum=1,maximum=5,step=1,default=3,label=q)\n",
    "  inputs_questions.append(obj_input)\n",
    "    "
   ]
  },
  {
   "cell_type": "code",
   "execution_count": null,
   "id": "b0c8bd81",
   "metadata": {},
   "outputs": [],
   "source": [
    "def predict(*outputs_questions):\n",
    "    outputs_questions = np.array(outputs_questions).reshape(1, -1)\n",
    "    return k_fit.predict(outputs_questions)\n",
    "\n",
    "iface = gr.Interface(\n",
    "                    fn = predict,\n",
    "                    title = \"Big Five Personality Trait\",\n",
    "                    description = \"Personality test\",\n",
    "                    inputs = inputs_questions,\n",
    "                    outputs= \"text\")\n",
    "iface.launch(share=True)"
   ]
  }
 ],
 "metadata": {
  "kernelspec": {
   "display_name": "Python 3 (ipykernel)",
   "language": "python",
   "name": "python3"
  },
  "language_info": {
   "codemirror_mode": {
    "name": "ipython",
    "version": 3
   },
   "file_extension": ".py",
   "mimetype": "text/x-python",
   "name": "python",
   "nbconvert_exporter": "python",
   "pygments_lexer": "ipython3",
   "version": "3.9.12"
  }
 },
 "nbformat": 4,
 "nbformat_minor": 5
}
